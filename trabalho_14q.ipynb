{
 "cells": [
  {
   "cell_type": "code",
   "execution_count": 2,
   "metadata": {},
   "outputs": [
    {
     "name": "stdout",
     "output_type": "stream",
     "text": [
      "A letra 'c' é uma consoante.\n"
     ]
    }
   ],
   "source": [
    "#1-Faça um programa que verifique se uma letra digitada é vogal ou consoante\n",
    "\n",
    "# Solicita que o usuário digite uma letra\n",
    "letra = input(\"Digite uma letra: \")\n",
    "\n",
    "# Verifica se a letra é vogal\n",
    "if letra in ['a', 'e', 'i', 'o', 'u', 'A', 'E', 'I', 'O', 'U']:\n",
    "    print(f\"A letra '{letra}' é uma vogal.\")\n",
    "else:\n",
    "    print(f\"A letra '{letra}' é uma consoante.\")\n"
   ]
  },
  {
   "cell_type": "code",
   "execution_count": 5,
   "metadata": {},
   "outputs": [
    {
     "name": "stdout",
     "output_type": "stream",
     "text": [
      "Você deve comprar o segundo produto.\n"
     ]
    }
   ],
   "source": [
    "#2-Faça um programa que pergunte o preço de três produtos e informe qual produto você deve comprar, sabendo que a decisão é sempre pelo mais barato.\n",
    "\n",
    "#Solicita o preço dos três produtos:\n",
    "preco_produto1 = float(input(\"Digite o preço do primeiro produto:\"))\n",
    "preco_produto2 = float(input(\"Digite o preço do segundo produto:\"))\n",
    "preco_produto3 = float(input(\"Digite o preço do terceiro produto:\"))\n",
    "\n",
    "#Verifica qual produto é mais barato:\n",
    "if preco_produto1 <= preco_produto2 and preco_produto1 <= preco_produto3:\n",
    "    print(\"Você deve comprar o primeiro produto.\")\n",
    "elif preco_produto2 <= preco_produto1 and preco_produto2 <= preco_produto3:\n",
    "    print(\"Você deve comprar o segundo produto.\")\n",
    "else:\n",
    "    print(\"Você deve comprar o terceiro produto.\")"
   ]
  },
  {
   "cell_type": "code",
   "execution_count": 8,
   "metadata": {},
   "outputs": [
    {
     "name": "stdout",
     "output_type": "stream",
     "text": [
      "Os números em ordem decrescente são: 3.0, 2.0, 1.0\n"
     ]
    }
   ],
   "source": [
    "#3-Faça um programa que leia 3 números e mostre-os em orfem decrescente\n",
    "\n",
    "# Solicita os três números ao usuário\n",
    "num1 = float(input(\"Digite o primeiro número: \"))\n",
    "num2 = float(input(\"Digite o segundo número: \"))\n",
    "num3 = float(input(\"Digite o terceiro número: \"))\n",
    "\n",
    "# Verifica a ordem decrescente dos números\n",
    "if num1 >= num2 >= num3:\n",
    "    print(f\"Os números em ordem decrescente são: {num1}, {num2}, {num3}\")\n",
    "elif num1 >= num3 >= num2:\n",
    "    print(f\"Os números em ordem decrescente são: {num1}, {num3}, {num2}\")\n",
    "elif num2 >= num1 >= num3:\n",
    "    print(f\"Os números em ordem decrescente são: {num2}, {num1}, {num3}\")\n",
    "elif num2 >= num3 >= num1:\n",
    "    print(f\"Os números em ordem decrescente são: {num2}, {num3}, {num1}\")\n",
    "elif num3 >= num1 >= num2:\n",
    "    print(f\"Os números em ordem decrescente são: {num3}, {num1}, {num2}\")\n",
    "else:\n",
    "    print(f\"Os números em ordem decrescente são: {num3}, {num2}, {num1}\")\n"
   ]
  },
  {
   "cell_type": "code",
   "execution_count": 12,
   "metadata": {},
   "outputs": [
    {
     "name": "stdout",
     "output_type": "stream",
     "text": [
      "Valor inválido\n"
     ]
    }
   ],
   "source": [
    "#4- Faça um programa que pergunte em que turno você estuda estuda. Peça para digitar M-matutino ou V-vespertino ou N-noturno. Imprima a mensagem \"Bom dia\" ou \"Boa tarde\" ou \"Boa noite\" ou \"Valor inválido\", conforme o caso.\n",
    "\n",
    "turno = input(\"Em que turno você estuda? Exemplo: M-matutino, V-vespertino ou N-noturno.\")\n",
    "\n",
    "if turno == \"M\":\n",
    "   print(\"Bom dia!\")\n",
    "elif turno == \"V\":\n",
    "   print(\"Boa tarde\")\n",
    "elif turno == \"N\":\n",
    "   print(\"Boa noite\")\n",
    "else:\n",
    "   print(\"Valor inválido\")"
   ]
  },
  {
   "cell_type": "code",
   "execution_count": 13,
   "metadata": {},
   "outputs": [
    {
     "name": "stdout",
     "output_type": "stream",
     "text": [
      "Nota 1: 7.0\n",
      "Nota 2: 8.0\n",
      "Média: 7.5\n",
      "Conceito: B\n",
      "APROVADO\n"
     ]
    }
   ],
   "source": [
    "#5-Faça um programa que lê as duas notas parciais obtidas por um aluno numa disciplina ao longo de um semestre, e calcule a sua média.\n",
    "\n",
    "# Solicita as notas do usuário\n",
    "nota1 = float(input(\"Digite a primeira nota: \"))\n",
    "nota2 = float(input(\"Digite a segunda nota: \"))\n",
    "\n",
    "# Calcula a média\n",
    "media = (nota1 + nota2) / 2\n",
    "\n",
    "# Atribui o conceito\n",
    "if 9.0 <= media <= 10.0:\n",
    "    conceito = \"A\"\n",
    "elif 7.5 <= media < 9.0:\n",
    "    conceito = \"B\"\n",
    "elif 6.0 <= media < 7.5:\n",
    "    conceito = \"C\"\n",
    "elif 4.0 <= media < 6.0:\n",
    "    conceito = \"D\"\n",
    "else:\n",
    "    conceito = \"E\"\n",
    "\n",
    "# Imprime as notas, a média e o conceito correspondente\n",
    "print(f\"Nota 1: {nota1}\")\n",
    "print(f\"Nota 2: {nota2}\")\n",
    "print(f\"Média: {media}\")\n",
    "print(f\"Conceito: {conceito}\")\n",
    "\n",
    "# Verifica se o aluno foi aprovado ou reprovado\n",
    "if conceito in [\"A\", \"B\", \"C\"]:\n",
    "    print(\"APROVADO\")\n",
    "else:\n",
    "    print(\"REPROVADO\")\n",
    "\n"
   ]
  },
  {
   "cell_type": "code",
   "execution_count": 15,
   "metadata": {},
   "outputs": [
    {
     "name": "stdout",
     "output_type": "stream",
     "text": [
      "O ano {ano} não é bissexto.\n"
     ]
    }
   ],
   "source": [
    "#6-Faça um programa que peça um número correspondente a um determinado ano e em seguida informe se este ano é ou não bissexto\n",
    "\n",
    "# Solicita ao usuário um número correspondente a um ano\n",
    "ano = int(input(\"Digite um ano: \"))\n",
    "\n",
    "# Verifica se o ano é bissexto\n",
    "if (ano % 4 == 0 and ano % 100 != 0) or (ano % 400 == 0):\n",
    "    print(\"O ano {ano} é bissexto.\")\n",
    "else:\n",
    "    print(\"O ano {ano} não é bissexto.\")\n"
   ]
  },
  {
   "cell_type": "code",
   "execution_count": null,
   "metadata": {},
   "outputs": [],
   "source": [
    "#7- Faça um programa que leia 2 números e em seguida pergunte ao usuário qual operação básica (soma, subtração, multiplicação, divisão, exponenciação) ele deseja realizar. O resultado da operação deve ser acompanhado de uma frase que diga se o número é: par ou ímpar, positivo ou negativo, inteiro ou decimal.\n",
    "\n",
    "# Solicita ao usuário os dois números\n",
    "num1 = float(input(\"Digite o primeiro número: \"))\n",
    "num2 = float(input(\"Digite o segundo número: \"))\n",
    "\n",
    "# Pergunta ao usuário qual operação deseja realizar\n",
    "operacao = input(\"Qual operação você deseja realizar? (+ para soma, - para subtração, * para multiplicação, / para divisão, ** para exponenciação): \")\n",
    "\n",
    "# Realiza a operação de acordo com a escolha do usuário\n",
    "if operacao == '+':\n",
    "    resultado = num1 + num2\n",
    "elif operacao == '-':\n",
    "    resultado = num1 - num2\n",
    "elif operacao == '*':\n",
    "    resultado = num1 * num2\n",
    "elif operacao == '/':\n",
    "    resultado = num1 / num2\n",
    "elif operacao == '**':\n",
    "    resultado = num1 ** num2\n",
    "else:\n",
    "    print(\"Operação inválida.\")\n",
    "    exit()\n",
    "\n",
    "# Verifica se o resultado é par ou ímpar, positivo ou negativo, inteiro ou decimal\n",
    "if resultado % 2 == 0:\n",
    "    tipo_numero = \"par\"\n",
    "else:\n",
    "    tipo_numero = \"ímpar\"\n",
    "\n",
    "if resultado >= 0:\n",
    "    sinal_numero = \"positivo\"\n",
    "else:\n",
    "    sinal_numero = \"negativo\"\n",
    "\n",
    "if resultado.is_integer():\n",
    "    tipo_valor = \"inteiro\"\n",
    "else:\n",
    "    tipo_valor = \"decimal\"\n",
    "\n",
    "# Imprime o resultado da operação e as informações sobre o número resultante\n",
    "print(f\"O resultado da operação é: {resultado}\")\n",
    "print(f\"O número é {tipo_numero}, {sinal_numero} e {tipo_valor}.\")\n"
   ]
  },
  {
   "cell_type": "code",
   "execution_count": 4,
   "metadata": {},
   "outputs": [
    {
     "name": "stdout",
     "output_type": "stream",
     "text": [
      "Valor inválido. A idade deve estar entre 0 e 150.\n"
     ]
    }
   ],
   "source": [
    "#8-Faça um programa que peça a idade e exiba a informação. Os valores aceitáveis devem estar entre 0 e 150. Valores fora desse limites não poderam ser aceitos.\n",
    "\n",
    "# Solicita a idade ao usuário\n",
    "idade = int(input(\"Digite sua idade: \"))\n",
    "\n",
    "# Verifica se a idade está dentro do intervalo aceitável\n",
    "if 0 <= idade <= 150:\n",
    "    print(f\"Sua idade é: {idade}\")\n",
    "else:\n",
    "    print(\"Valor inválido. A idade deve estar entre 0 e 150.\")\n"
   ]
  },
  {
   "cell_type": "code",
   "execution_count": 5,
   "metadata": {},
   "outputs": [
    {
     "name": "stdout",
     "output_type": "stream",
     "text": [
      "Soma dos números: 15.0\n",
      "Média dos números: 3.0\n"
     ]
    }
   ],
   "source": [
    "#9- Utilizando estruturas de repetção de listas(com ou sem .append), faça um programa que leia 5 números e informe a soma e a média dos números.\n",
    "\n",
    "# Inicializa uma lista vazia para armazenar os números\n",
    "numeros = []\n",
    "\n",
    "# Loop para ler 5 números e armazená-los na lista\n",
    "for i in range(5):\n",
    "    numero = float(input(f\"Digite o {i+1}º número: \"))\n",
    "    numeros.append(numero)\n",
    "\n",
    "# Calcula a soma dos números\n",
    "soma = sum(numeros)\n",
    "\n",
    "# Calcula a média dos números\n",
    "media = soma / len(numeros)\n",
    "\n",
    "# Imprime a soma e a média dos números\n",
    "print(f\"Soma dos números: {soma}\")\n",
    "print(f\"Média dos números: {media}\")\n"
   ]
  },
  {
   "cell_type": "code",
   "execution_count": 6,
   "metadata": {},
   "outputs": [
    {
     "name": "stdout",
     "output_type": "stream",
     "text": [
      "O número 7 é um número primo.\n"
     ]
    }
   ],
   "source": [
    "#10-Faça um programa que peça um número inteiro e determine se ele é ou não um número primo. Um número primo é aquele que é divisível somente por ele mesmo e por 1.\n",
    "\n",
    "# Solicita ao usuário um número inteiro\n",
    "numero = int(input(\"Digite um número inteiro: \"))\n",
    "\n",
    "# Verifica se o número é menor ou igual a 1 (não é primo)\n",
    "if numero <= 1:\n",
    "    print(f\"O número {numero} não é um número primo.\")\n",
    "else:\n",
    "    # Verifica se o número é divisível por algum número diferente de 1 e ele mesmo\n",
    "    for divisor in range(2, numero):\n",
    "        if numero % divisor == 0:\n",
    "            print(f\"O número {numero} não é um número primo.\")\n",
    "            break\n",
    "    else:\n",
    "        print(f\"O número {numero} é um número primo.\")\n"
   ]
  },
  {
   "cell_type": "code",
   "execution_count": 7,
   "metadata": {},
   "outputs": [
    {
     "name": "stdout",
     "output_type": "stream",
     "text": [
      "A menor temperatura é: 5.0\n",
      "A maior temperatura é: 8.0\n",
      "A média das temperaturas é: 6.4\n"
     ]
    }
   ],
   "source": [
    "#11-  O Departamento Estadual de Meteorologia the contratou para desenvolver um programa que leia 5 temperaturas, e informe ao final a menor e a maior temperaturas informadas, bem como a média das temperaturas.\n",
    "\n",
    "# Inicializa variáveis para armazenar a menor e a maior temperatura, e a soma das temperaturas\n",
    "menor_temperatura = float('inf')  # Define a menor temperatura como infinito inicialmente\n",
    "maior_temperatura = float('-inf') # Define a maior temperatura como -infinito inicialmente\n",
    "soma_temperaturas = 0  # Inicializa a soma das temperaturas\n",
    "\n",
    "# Loop para ler as 5 temperaturas e calcular a soma, menor e maior temperatura\n",
    "for i in range(5):\n",
    "    temperatura = float(input(f\"Digite a temperatura {i+1}: \"))\n",
    "    soma_temperaturas += temperatura\n",
    "    \n",
    "    if temperatura < menor_temperatura:\n",
    "        menor_temperatura = temperatura\n",
    "    \n",
    "    if temperatura > maior_temperatura:\n",
    "        maior_temperatura = temperatura\n",
    "\n",
    "# Calcula a média das temperaturas\n",
    "media_temperaturas = soma_temperaturas / 5\n",
    "\n",
    "# Imprime a menor temperatura, a maior temperatura e a média das temperaturas\n",
    "print(f\"A menor temperatura é: {menor_temperatura}\")\n",
    "print(f\"A maior temperatura é: {maior_temperatura}\")\n",
    "print(f\"A média das temperaturas é: {media_temperaturas}\")\n"
   ]
  },
  {
   "cell_type": "code",
   "execution_count": 8,
   "metadata": {},
   "outputs": [
    {
     "name": "stdout",
     "output_type": "stream",
     "text": [
      "O saldo médio do cliente é: R$1500.0\n",
      "O valor do crédito é: R$600.0\n"
     ]
    }
   ],
   "source": [
    "#12. Um banco concederá um crédito especial aos seus clientes, variável com o saldo médio no último ano. Faça um algoritmo que leia o saldo médio de um cliente e calcule o valor do crédito de acordo com a tabela abaixo. Mostre uma mensagem informando o saldo médio e o valor do crédito.\n",
    "\n",
    "# Solicita o saldo médio ao usuário\n",
    "saldo_medio = float(input(\"Digite o saldo médio do cliente: \"))\n",
    "\n",
    "# Calcula o valor do crédito de acordo com a tabela fornecida\n",
    "if saldo_medio <= 200:\n",
    "    valor_credito = 0\n",
    "elif saldo_medio <= 400:\n",
    "    valor_credito = saldo_medio * 0.2\n",
    "elif saldo_medio <= 600:\n",
    "    valor_credito = saldo_medio * 0.3\n",
    "else:\n",
    "    valor_credito = saldo_medio * 0.4\n",
    "\n",
    "# Imprime a mensagem com o saldo médio e o valor do crédito\n",
    "print(f\"O saldo médio do cliente é: R${saldo_medio}\")\n",
    "print(f\"O valor do crédito é: R${valor_credito}\")\n"
   ]
  },
  {
   "cell_type": "code",
   "execution_count": 10,
   "metadata": {},
   "outputs": [
    {
     "name": "stdout",
     "output_type": "stream",
     "text": [
      "Olá, elen! Com 22 anos, você poderá se aposentar em 2065.\n"
     ]
    }
   ],
   "source": [
    "#13. Você foi contratado(a) para fazer um serviço para o INSS (Instituto Nacional do Seguro Social) do Brasil. O trabalho consiste em criar um programa que diga a pessoa o ano que ela poderá se aposentar. Você deve perguntar a pessoa, o nome, a idade e criar uma mensagem.\n",
    "\n",
    "# Solicita o nome da pessoa\n",
    "nome = input(\"Digite seu nome: \")\n",
    "\n",
    "# Solicita a idade da pessoa\n",
    "idade = int(input(\"Digite sua idade: \"))\n",
    "\n",
    "# Calcula o ano em que a pessoa poderá se aposentar (considerando a idade mínima de 65 anos)\n",
    "ano_aposentadoria = 2022 + (65 - idade)\n",
    "\n",
    "# Imprime a mensagem com o nome da pessoa e o ano de aposentadoria\n",
    "print(f\"Olá, {nome}! Com {idade} anos, você poderá se aposentar em {ano_aposentadoria}.\")\n"
   ]
  },
  {
   "cell_type": "code",
   "execution_count": 14,
   "metadata": {},
   "outputs": [
    {
     "name": "stdout",
     "output_type": "stream",
     "text": [
      "Salário Bruto: R$90.00\n",
      "Desconto IR: R$0.00\n",
      "Desconto Sindicato: R$2.70\n",
      "FGTS: R$9.90\n",
      "Salário Líquido: R$87.30\n"
     ]
    }
   ],
   "source": [
    "#14. Faça um programa sem usar função para o cálculo de uma folha de pagamento, sabendo que os descontos são do imposto de Renda, que depende do salário bruto (conforme tabela abaixo), 3% para o Sindicato e que o FGTS corresponde a 11% do salário bruto, mas não é descontado (é a empresa que deposita). O salário líquido corresponde ao salário bruto menos os descontos. O programa deverá pedir ao usuário o valor da sua hora e a quantidade de horas trabalhadas no mês.\n",
    "\n",
    "# Solicita ao usuário o valor da hora e a quantidade de horas trabalhadas\n",
    "valor_hora = float(input(\"Digite o valor da sua hora de trabalho: R$\"))\n",
    "horas_trabalhadas = float(input(\"Digite a quantidade de horas trabalhadas no mês: \"))\n",
    "\n",
    "# Calcula o salário bruto\n",
    "salario_bruto = valor_hora * horas_trabalhadas\n",
    "\n",
    "# Calcula o desconto do Imposto de Renda de acordo com a tabela fornecida\n",
    "if salario_bruto <= 2112.00:\n",
    "    desconto_ir = 0\n",
    "elif 2112.01 <= salario_bruto <= 2826.65:\n",
    "    desconto_ir = salario_bruto * 0.075\n",
    "elif 2826.66 <= salario_bruto <= 3751.05:\n",
    "    desconto_ir = salario_bruto * 0.15\n",
    "elif 3751.06 <= salario_bruto <= 4664.68:\n",
    "    desconto_ir = salario_bruto * 0.225\n",
    "else:\n",
    "    desconto_ir = salario_bruto * 0.275\n",
    "\n",
    "# Calcula o desconto do Sindicato (3%)\n",
    "desconto_sindicato = salario_bruto * 0.03\n",
    "\n",
    "# Calcula o valor do FGTS (11%)\n",
    "fgts = salario_bruto * 0.11\n",
    "\n",
    "# Calcula o salário líquido (salário bruto menos descontos)\n",
    "salario_liquido = salario_bruto - desconto_ir - desconto_sindicato\n",
    "\n",
    "# Imprime a folha de pagamento\n",
    "print(f\"Salário Bruto: R${salario_bruto:.2f}\")\n",
    "print(f\"Desconto IR: R${desconto_ir:.2f}\")\n",
    "print(f\"Desconto Sindicato: R${desconto_sindicato:.2f}\")\n",
    "print(f\"FGTS: R${fgts:.2f}\")\n",
    "print(f\"Salário Líquido: R${salario_liquido:.2f}\")\n"
   ]
  }
 ],
 "metadata": {
  "kernelspec": {
   "display_name": "Python 3",
   "language": "python",
   "name": "python3"
  },
  "language_info": {
   "codemirror_mode": {
    "name": "ipython",
    "version": 3
   },
   "file_extension": ".py",
   "mimetype": "text/x-python",
   "name": "python",
   "nbconvert_exporter": "python",
   "pygments_lexer": "ipython3",
   "version": "3.11.9"
  }
 },
 "nbformat": 4,
 "nbformat_minor": 2
}
